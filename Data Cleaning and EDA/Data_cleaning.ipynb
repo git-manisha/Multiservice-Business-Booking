{
 "cells": [
  {
   "cell_type": "code",
   "execution_count": 14,
   "metadata": {},
   "outputs": [],
   "source": [
    "import pandas as pd"
   ]
  },
  {
   "cell_type": "code",
   "execution_count": 4,
   "metadata": {},
   "outputs": [
    {
     "name": "stdout",
     "output_type": "stream",
     "text": [
      "Defaulting to user installation because normal site-packages is not writeable\n",
      "Collecting openpyxl\n",
      "  Downloading openpyxl-3.1.5-py2.py3-none-any.whl.metadata (2.5 kB)\n",
      "Collecting et-xmlfile (from openpyxl)\n",
      "  Downloading et_xmlfile-2.0.0-py3-none-any.whl.metadata (2.7 kB)\n",
      "Downloading openpyxl-3.1.5-py2.py3-none-any.whl (250 kB)\n",
      "Downloading et_xmlfile-2.0.0-py3-none-any.whl (18 kB)\n",
      "Installing collected packages: et-xmlfile, openpyxl\n",
      "Successfully installed et-xmlfile-2.0.0 openpyxl-3.1.5\n",
      "Note: you may need to restart the kernel to use updated packages.\n"
     ]
    },
    {
     "name": "stderr",
     "output_type": "stream",
     "text": [
      "\n",
      "[notice] A new release of pip is available: 25.0 -> 25.0.1\n",
      "[notice] To update, run: C:\\Users\\manis\\AppData\\Local\\Microsoft\\WindowsApps\\PythonSoftwareFoundation.Python.3.12_qbz5n2kfra8p0\\python.exe -m pip install --upgrade pip\n"
     ]
    }
   ],
   "source": [
    "pip install openpyxl"
   ]
  },
  {
   "cell_type": "code",
   "execution_count": 15,
   "metadata": {},
   "outputs": [],
   "source": [
    "df = pd.read_excel('DataAnalyst_Assesment_Dataset.xlsx',engine=\"openpyxl\")"
   ]
  },
  {
   "cell_type": "code",
   "execution_count": 16,
   "metadata": {},
   "outputs": [
    {
     "name": "stdout",
     "output_type": "stream",
     "text": [
      "\n",
      "Missing Values After Cleaning:\n",
      "Booking ID              0\n",
      "Customer ID             0\n",
      "Customer Name           0\n",
      "Booking Type            0\n",
      "Booking Date            0\n",
      "Status                  0\n",
      "Class Type            672\n",
      "Instructor            730\n",
      "Time Slot             205\n",
      "Duration (mins)       205\n",
      "Price                   0\n",
      "Facility              328\n",
      "Theme                 727\n",
      "Subscription Type    1000\n",
      "Service Name            0\n",
      "Service Type            0\n",
      "Customer Email         94\n",
      "Customer Phone        105\n",
      "dtype: int64\n"
     ]
    }
   ],
   "source": [
    "# Display missing values after cleaning\n",
    "print(\"\\nMissing Values After Cleaning:\")\n",
    "print(df.isnull().sum())"
   ]
  },
  {
   "cell_type": "code",
   "execution_count": 17,
   "metadata": {},
   "outputs": [],
   "source": [
    "# Drop the \"Subscription Type\" column as it had no values\n",
    "if 'Subscription Type' in df.columns:\n",
    "    df.drop(columns=['Subscription Type'], inplace=True)"
   ]
  },
  {
   "cell_type": "code",
   "execution_count": 18,
   "metadata": {},
   "outputs": [
    {
     "name": "stdout",
     "output_type": "stream",
     "text": [
      "Number of duplicate rows: 0\n"
     ]
    }
   ],
   "source": [
    "# Check for duplicate rows\n",
    "duplicates = df.duplicated().sum()\n",
    "print(f\"Number of duplicate rows: {duplicates}\")"
   ]
  },
  {
   "cell_type": "code",
   "execution_count": 19,
   "metadata": {},
   "outputs": [
    {
     "name": "stderr",
     "output_type": "stream",
     "text": [
      "C:\\Users\\manis\\AppData\\Local\\Temp\\ipykernel_24572\\2319708059.py:3: FutureWarning: A value is trying to be set on a copy of a DataFrame or Series through chained assignment using an inplace method.\n",
      "The behavior will change in pandas 3.0. This inplace method will never work because the intermediate object on which we are setting values always behaves as a copy.\n",
      "\n",
      "For example, when doing 'df[col].method(value, inplace=True)', try using 'df.method({col: value}, inplace=True)' or df[col] = df[col].method(value) instead, to perform the operation inplace on the original object.\n",
      "\n",
      "\n",
      "  df['Time Slot'].fillna(mode_value, inplace=True)\n",
      "C:\\Users\\manis\\AppData\\Local\\Temp\\ipykernel_24572\\2319708059.py:6: FutureWarning: Series.fillna with 'method' is deprecated and will raise in a future version. Use obj.ffill() or obj.bfill() instead.\n",
      "  df['Time Slot'].fillna(method='ffill', inplace=True)\n",
      "C:\\Users\\manis\\AppData\\Local\\Temp\\ipykernel_24572\\2319708059.py:9: FutureWarning: Series.fillna with 'method' is deprecated and will raise in a future version. Use obj.ffill() or obj.bfill() instead.\n",
      "  df['Time Slot'].fillna(method='bfill', inplace=True)\n"
     ]
    }
   ],
   "source": [
    "# 1️⃣ Fill missing values with the most frequent (mode) time slot\n",
    "mode_value = df['Time Slot'].mode()[0]  # Get the most frequent value\n",
    "df['Time Slot'].fillna(mode_value, inplace=True)\n",
    "\n",
    "# 2️⃣ Forward Fill - Fill missing values with the previous row's value\n",
    "df['Time Slot'].fillna(method='ffill', inplace=True)\n",
    "\n",
    "# 3️⃣ Backward Fill - Fill missing values with the next row's value\n",
    "df['Time Slot'].fillna(method='bfill', inplace=True)"
   ]
  },
  {
   "cell_type": "code",
   "execution_count": 20,
   "metadata": {},
   "outputs": [],
   "source": [
    "# Fill missing values in 'Facility' using 'Service Name' and vice versa\n",
    "df['Facility'] = df['Facility'].fillna(df['Service Name'])\n",
    "df['Service Name'] = df['Service Name'].fillna(df['Facility'])"
   ]
  },
  {
   "cell_type": "code",
   "execution_count": 22,
   "metadata": {},
   "outputs": [
    {
     "name": "stdout",
     "output_type": "stream",
     "text": [
      "      Facility Service Name\n",
      "0   Party Room   Party Room\n",
      "1   Party Room   Party Room\n",
      "2    Play Area    Play Area\n",
      "3    Play Area    Play Area\n",
      "4          Art          Art\n",
      "5   Party Room   Party Room\n",
      "6   Party Room   Party Room\n",
      "7   Party Room   Party Room\n",
      "8   Party Room   Party Room\n",
      "9    Play Area    Play Area\n",
      "10  Party Room   Party Room\n",
      "11       Dance        Dance\n",
      "12   Play Area    Play Area\n",
      "13         Art          Art\n",
      "14   Play Area    Play Area\n",
      "15         Art          Art\n",
      "16  Gymnastics   Gymnastics\n",
      "17  Party Room   Party Room\n",
      "18       Dance        Dance\n",
      "19  Gymnastics   Gymnastics\n"
     ]
    }
   ],
   "source": [
    "# Display updated dataset\n",
    "print(df[['Facility', 'Service Name']].head(20))"
   ]
  },
  {
   "cell_type": "code",
   "execution_count": 23,
   "metadata": {},
   "outputs": [],
   "source": [
    "# Drop the 'Service Name' column after merging\n",
    "df.drop(columns=['Service Name'], inplace=True)"
   ]
  },
  {
   "cell_type": "code",
   "execution_count": 24,
   "metadata": {},
   "outputs": [],
   "source": [
    "# Drop the 'Class Type' column after merging\n",
    "df.drop(columns=['Class Type'], inplace=True)"
   ]
  },
  {
   "cell_type": "code",
   "execution_count": 25,
   "metadata": {},
   "outputs": [],
   "source": [
    "# Handle missing values\n",
    "# Replace missing values in categorical columns with placeholders\n",
    "categorical_placeholders = {\n",
    "    'Instructor': 'No Instructor',\n",
    "    'Theme': 'Not Specified'\n",
    "}"
   ]
  },
  {
   "cell_type": "code",
   "execution_count": 26,
   "metadata": {},
   "outputs": [
    {
     "name": "stderr",
     "output_type": "stream",
     "text": [
      "C:\\Users\\manis\\AppData\\Local\\Temp\\ipykernel_24572\\1111883832.py:3: FutureWarning: A value is trying to be set on a copy of a DataFrame or Series through chained assignment using an inplace method.\n",
      "The behavior will change in pandas 3.0. This inplace method will never work because the intermediate object on which we are setting values always behaves as a copy.\n",
      "\n",
      "For example, when doing 'df[col].method(value, inplace=True)', try using 'df.method({col: value}, inplace=True)' or df[col] = df[col].method(value) instead, to perform the operation inplace on the original object.\n",
      "\n",
      "\n",
      "  df[col].fillna(placeholder, inplace=True)\n"
     ]
    }
   ],
   "source": [
    "for col, placeholder in categorical_placeholders.items():\n",
    "    if col in df.columns:\n",
    "        df[col].fillna(placeholder, inplace=True)"
   ]
  },
  {
   "cell_type": "code",
   "execution_count": 27,
   "metadata": {},
   "outputs": [
    {
     "name": "stderr",
     "output_type": "stream",
     "text": [
      "C:\\Users\\manis\\AppData\\Local\\Temp\\ipykernel_24572\\3250091834.py:3: FutureWarning: A value is trying to be set on a copy of a DataFrame or Series through chained assignment using an inplace method.\n",
      "The behavior will change in pandas 3.0. This inplace method will never work because the intermediate object on which we are setting values always behaves as a copy.\n",
      "\n",
      "For example, when doing 'df[col].method(value, inplace=True)', try using 'df.method({col: value}, inplace=True)' or df[col] = df[col].method(value) instead, to perform the operation inplace on the original object.\n",
      "\n",
      "\n",
      "  df['Duration (mins)'].fillna(df['Duration (mins)'].median(), inplace=True)\n"
     ]
    }
   ],
   "source": [
    "# Replace missing numeric values (Duration) with the median\n",
    "if 'Duration (mins)' in df.columns:\n",
    "    df['Duration (mins)'].fillna(df['Duration (mins)'].median(), inplace=True)"
   ]
  },
  {
   "cell_type": "code",
   "execution_count": 28,
   "metadata": {},
   "outputs": [],
   "source": [
    "# Fill missing contact details with appropriate placeholders\n",
    "contact_columns = {\n",
    "    'Customer Email': 'No Email Provided',\n",
    "    'Customer Phone': 'No Phone Provided'\n",
    "}"
   ]
  },
  {
   "cell_type": "code",
   "execution_count": 29,
   "metadata": {},
   "outputs": [
    {
     "name": "stderr",
     "output_type": "stream",
     "text": [
      "C:\\Users\\manis\\AppData\\Local\\Temp\\ipykernel_24572\\4022287122.py:3: FutureWarning: A value is trying to be set on a copy of a DataFrame or Series through chained assignment using an inplace method.\n",
      "The behavior will change in pandas 3.0. This inplace method will never work because the intermediate object on which we are setting values always behaves as a copy.\n",
      "\n",
      "For example, when doing 'df[col].method(value, inplace=True)', try using 'df.method({col: value}, inplace=True)' or df[col] = df[col].method(value) instead, to perform the operation inplace on the original object.\n",
      "\n",
      "\n",
      "  df[col].fillna(placeholder, inplace=True)\n"
     ]
    }
   ],
   "source": [
    "for col, placeholder in contact_columns.items():\n",
    "    if col in df.columns:\n",
    "        df[col].fillna(placeholder, inplace=True)"
   ]
  },
  {
   "cell_type": "code",
   "execution_count": 30,
   "metadata": {},
   "outputs": [
    {
     "name": "stdout",
     "output_type": "stream",
     "text": [
      "\n",
      "Missing Values After Cleaning:\n",
      "Booking ID         0\n",
      "Customer ID        0\n",
      "Customer Name      0\n",
      "Booking Type       0\n",
      "Booking Date       0\n",
      "Status             0\n",
      "Instructor         0\n",
      "Time Slot          0\n",
      "Duration (mins)    0\n",
      "Price              0\n",
      "Facility           0\n",
      "Theme              0\n",
      "Service Type       0\n",
      "Customer Email     0\n",
      "Customer Phone     0\n",
      "dtype: int64\n"
     ]
    }
   ],
   "source": [
    "# Display missing values after cleaning\n",
    "print(\"\\nMissing Values After Cleaning:\")\n",
    "print(df.isnull().sum())"
   ]
  },
  {
   "cell_type": "code",
   "execution_count": 31,
   "metadata": {},
   "outputs": [
    {
     "name": "stdout",
     "output_type": "stream",
     "text": [
      "\n",
      "Cleaned data saved to: C:/Users/manis/Downloads/Omnify/Cleaned_Dataset_for_dataAnlysis.xlsx\n"
     ]
    }
   ],
   "source": [
    "# Save cleaned data to a new file\n",
    "cleaned_file_path = \"C:/Users/manis/Downloads/Omnify/Cleaned_Dataset_for_dataAnlysis.xlsx\"\n",
    "df.to_excel(cleaned_file_path, index=False)\n",
    "print(f\"\\nCleaned data saved to: {cleaned_file_path}\")"
   ]
  },
  {
   "cell_type": "code",
   "execution_count": null,
   "metadata": {},
   "outputs": [],
   "source": []
  }
 ],
 "metadata": {
  "kernelspec": {
   "display_name": "Python 3",
   "language": "python",
   "name": "python3"
  },
  "language_info": {
   "codemirror_mode": {
    "name": "ipython",
    "version": 3
   },
   "file_extension": ".py",
   "mimetype": "text/x-python",
   "name": "python",
   "nbconvert_exporter": "python",
   "pygments_lexer": "ipython3",
   "version": "3.12.9"
  }
 },
 "nbformat": 4,
 "nbformat_minor": 2
}
